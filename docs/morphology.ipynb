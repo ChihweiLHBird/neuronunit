{
 "cells": [
  {
   "cell_type": "markdown",
   "metadata": {},
   "source": [
    "# Performing Morphology Tests\n",
    "\n",
    "The examples below show how to compare values of morphology metrics to experimental values.\n",
    "\n",
    "It assumes you converted your model to an [.SWC file](http://www.neuronland.org/NLMorphologyConverter/MorphologyFormats/SWC/Spec.html). The tests use the [pyLMeasure library](https://pypi.org/project/pylmeasure/) to compute the metrics.\n",
    "\n",
    "If you have a NEURON model (.HOC or Python), see the [hoc2swc package](https://pypi.org/project/hoc2swc/) to export model morphology to .SWC."
   ]
  },
  {
   "cell_type": "markdown",
   "metadata": {},
   "source": [
    "## Imports"
   ]
  },
  {
   "cell_type": "code",
   "execution_count": 9,
   "metadata": {},
   "outputs": [],
   "source": [
    "from neuronunit.models.morphology import SwcCellModel\n",
    "from neuronunit.tests.morphology import *\n",
    "\n",
    "from pandas import DataFrame\n",
    "from sciunit.suites import TestSuite\n",
    "import quantities as pq\n",
    "\n",
    "pass;"
   ]
  },
  {
   "cell_type": "markdown",
   "metadata": {},
   "source": [
    "## Create a SWC model instance\n",
    "\n",
    "Specify the path to the SWC file"
   ]
  },
  {
   "cell_type": "code",
   "execution_count": 2,
   "metadata": {},
   "outputs": [],
   "source": [
    "model = SwcCellModel('../neuronunit/unit_test/morphology/pyramidalCell.swc')"
   ]
  },
  {
   "cell_type": "markdown",
   "metadata": {},
   "source": [
    "## Create a test with expected experimental values\n",
    "\n",
    "Specify the known mean, standard deviation, and sample size"
   ]
  },
  {
   "cell_type": "code",
   "execution_count": 3,
   "metadata": {},
   "outputs": [],
   "source": [
    "test = SomaSurfaceAreaTest({\"mean\":1650*pq.um**2, \"std\":80*pq.um**2,\"n\":26})"
   ]
  },
  {
   "cell_type": "markdown",
   "metadata": {},
   "source": [
    "## Judge the model against the expected distribution"
   ]
  },
  {
   "cell_type": "code",
   "execution_count": 10,
   "metadata": {},
   "outputs": [
    {
     "data": {
      "text/plain": [
       "Z = 1.11"
      ]
     },
     "execution_count": 10,
     "metadata": {},
     "output_type": "execute_result"
    }
   ],
   "source": [
    "score = test.judge(model)\n",
    "score"
   ]
  },
  {
   "cell_type": "markdown",
   "metadata": {},
   "source": [
    "## Build a suite of tests that can be run against one or more models"
   ]
  },
  {
   "cell_type": "code",
   "execution_count": 11,
   "metadata": {},
   "outputs": [],
   "source": [
    "# Values below are arbitrary, for demonstration purposes\n",
    "tests = [\n",
    "    test,\n",
    "    NumberofStemsTest({\"mean\":0, \"std\":1,\"n\":1}),\n",
    "    NumberofBifurcationsTest({\"mean\":0, \"std\":1,\"n\":1}),\n",
    "    NumberofBranchesTest({\"mean\":0, \"std\":1,\"n\":1}),\n",
    "    OverallWidthTest({\"mean\":0*pq.um, \"std\":1*pq.um,\"n\":1}),\n",
    "    OverallHeightTest({\"mean\":0*pq.um, \"std\":1*pq.um,\"n\":1}),\n",
    "    OverallDepthTest({\"mean\":0*pq.um, \"std\":1*pq.um,\"n\":1}),\n",
    "    AverageDiameterTest({\"mean\":0*pq.um, \"std\":1*pq.um,\"n\":1}),\n",
    "    TotalLengthTest({\"mean\":0*pq.um, \"std\":1*pq.um,\"n\":1}),\n",
    "    TotalSurfaceTest({\"mean\":0*pq.um**2, \"std\":1*pq.um**2,\"n\":1}),\n",
    "    TotalVolumeTest({\"mean\":0*pq.um**3, \"std\":1*pq.um**3,\"n\":1}),\n",
    "    MaxEuclideanDistanceTest({\"mean\":0*pq.um, \"std\":1*pq.um,\"n\":1}),\n",
    "    MaxPathDistanceTest({\"mean\":0*pq.um, \"std\":1*pq.um,\"n\":1}),\n",
    "    MaxBranchOrderTest({\"mean\":0, \"std\":1,\"n\":1}),\n",
    "    AverageContractionTest({\"mean\":0, \"std\":1,\"n\":1}),\n",
    "    TotalFragmentationTest({\"mean\":0, \"std\":1,\"n\":1}),\n",
    "    PartitionAsymmetryTest({\"mean\":0, \"std\":1,\"n\":1}),\n",
    "    AverageRallsRatioTest({\"mean\":0, \"std\":1,\"n\":1}),\n",
    "    AverageBifurcationAngleLocalTest({\"mean\":0, \"std\":1,\"n\":1}),\n",
    "    AverageBifurcationAngleRemoteTest({\"mean\":0, \"std\":1,\"n\":1}),\n",
    "    FractalDimensionTest({\"mean\":0, \"std\":1,\"n\":1}),\n",
    "]\n",
    "\n",
    "suite = TestSuite(tests)"
   ]
  },
  {
   "cell_type": "code",
   "execution_count": 6,
   "metadata": {},
   "outputs": [
    {
     "data": {
      "text/html": [
       "Executing test <i>SomaSurfaceAreaTest</i> on model <i>pyramidalCell</i>... "
      ],
      "text/plain": [
       "<IPython.core.display.HTML object>"
      ]
     },
     "metadata": {},
     "output_type": "display_data"
    },
    {
     "data": {
      "text/html": [
       "Score is <a style=\"color: rgb(254,191,111)\">Z = 1.11</a>\n"
      ],
      "text/plain": [
       "<IPython.core.display.HTML object>"
      ]
     },
     "metadata": {},
     "output_type": "display_data"
    },
    {
     "data": {
      "text/html": [
       "Executing test <i>NumberofStemsTest</i> on model <i>pyramidalCell</i>... "
      ],
      "text/plain": [
       "<IPython.core.display.HTML object>"
      ]
     },
     "metadata": {},
     "output_type": "display_data"
    },
    {
     "data": {
      "text/html": [
       "Score is <a style=\"color: rgb(230,78,52)\">Z = 10.00</a>\n"
      ],
      "text/plain": [
       "<IPython.core.display.HTML object>"
      ]
     },
     "metadata": {},
     "output_type": "display_data"
    },
    {
     "data": {
      "text/html": [
       "Executing test <i>NumberofBifurcationsTest</i> on model <i>pyramidalCell</i>... "
      ],
      "text/plain": [
       "<IPython.core.display.HTML object>"
      ]
     },
     "metadata": {},
     "output_type": "display_data"
    },
    {
     "data": {
      "text/html": [
       "Score is <a style=\"color: rgb(230,78,52)\">Z = 138.00</a>\n"
      ],
      "text/plain": [
       "<IPython.core.display.HTML object>"
      ]
     },
     "metadata": {},
     "output_type": "display_data"
    },
    {
     "data": {
      "text/html": [
       "Executing test <i>NumberofBranchesTest</i> on model <i>pyramidalCell</i>... "
      ],
      "text/plain": [
       "<IPython.core.display.HTML object>"
      ]
     },
     "metadata": {},
     "output_type": "display_data"
    },
    {
     "data": {
      "text/html": [
       "Score is <a style=\"color: rgb(230,78,52)\">Z = 286.00</a>\n"
      ],
      "text/plain": [
       "<IPython.core.display.HTML object>"
      ]
     },
     "metadata": {},
     "output_type": "display_data"
    },
    {
     "data": {
      "text/html": [
       "Executing test <i>OverallWidthTest</i> on model <i>pyramidalCell</i>... "
      ],
      "text/plain": [
       "<IPython.core.display.HTML object>"
      ]
     },
     "metadata": {},
     "output_type": "display_data"
    },
    {
     "data": {
      "text/html": [
       "Score is <a style=\"color: rgb(230,78,52)\">Z = 771.20</a>\n"
      ],
      "text/plain": [
       "<IPython.core.display.HTML object>"
      ]
     },
     "metadata": {},
     "output_type": "display_data"
    },
    {
     "data": {
      "text/html": [
       "Executing test <i>OverallHeightTest</i> on model <i>pyramidalCell</i>... "
      ],
      "text/plain": [
       "<IPython.core.display.HTML object>"
      ]
     },
     "metadata": {},
     "output_type": "display_data"
    },
    {
     "data": {
      "text/html": [
       "Score is <a style=\"color: rgb(230,78,52)\">Z = 1672.09</a>\n"
      ],
      "text/plain": [
       "<IPython.core.display.HTML object>"
      ]
     },
     "metadata": {},
     "output_type": "display_data"
    },
    {
     "data": {
      "text/html": [
       "Executing test <i>OverallDepthTest</i> on model <i>pyramidalCell</i>... "
      ],
      "text/plain": [
       "<IPython.core.display.HTML object>"
      ]
     },
     "metadata": {},
     "output_type": "display_data"
    },
    {
     "data": {
      "text/html": [
       "Score is <a style=\"color: rgb(230,78,52)\">Z = 198.75</a>\n"
      ],
      "text/plain": [
       "<IPython.core.display.HTML object>"
      ]
     },
     "metadata": {},
     "output_type": "display_data"
    },
    {
     "data": {
      "text/html": [
       "Executing test <i>AverageDiameterTest</i> on model <i>pyramidalCell</i>... "
      ],
      "text/plain": [
       "<IPython.core.display.HTML object>"
      ]
     },
     "metadata": {},
     "output_type": "display_data"
    },
    {
     "data": {
      "text/html": [
       "Score is <a style=\"color: rgb(193,229,123)\">Z = 0.38</a>\n"
      ],
      "text/plain": [
       "<IPython.core.display.HTML object>"
      ]
     },
     "metadata": {},
     "output_type": "display_data"
    },
    {
     "data": {
      "text/html": [
       "Executing test <i>TotalLengthTest</i> on model <i>pyramidalCell</i>... "
      ],
      "text/plain": [
       "<IPython.core.display.HTML object>"
      ]
     },
     "metadata": {},
     "output_type": "display_data"
    },
    {
     "data": {
      "text/html": [
       "Score is <a style=\"color: rgb(230,78,52)\">Z = 16949.90</a>\n"
      ],
      "text/plain": [
       "<IPython.core.display.HTML object>"
      ]
     },
     "metadata": {},
     "output_type": "display_data"
    },
    {
     "data": {
      "text/html": [
       "Executing test <i>TotalSurfaceTest</i> on model <i>pyramidalCell</i>... "
      ],
      "text/plain": [
       "<IPython.core.display.HTML object>"
      ]
     },
     "metadata": {},
     "output_type": "display_data"
    },
    {
     "data": {
      "text/html": [
       "Score is <a style=\"color: rgb(230,78,52)\">Z = 18620.50</a>\n"
      ],
      "text/plain": [
       "<IPython.core.display.HTML object>"
      ]
     },
     "metadata": {},
     "output_type": "display_data"
    },
    {
     "data": {
      "text/html": [
       "Executing test <i>TotalVolumeTest</i> on model <i>pyramidalCell</i>... "
      ],
      "text/plain": [
       "<IPython.core.display.HTML object>"
      ]
     },
     "metadata": {},
     "output_type": "display_data"
    },
    {
     "data": {
      "text/html": [
       "Score is <a style=\"color: rgb(230,78,52)\">Z = 3558.79</a>\n"
      ],
      "text/plain": [
       "<IPython.core.display.HTML object>"
      ]
     },
     "metadata": {},
     "output_type": "display_data"
    },
    {
     "data": {
      "text/html": [
       "Executing test <i>MaxEuclideanDistanceTest</i> on model <i>pyramidalCell</i>... "
      ],
      "text/plain": [
       "<IPython.core.display.HTML object>"
      ]
     },
     "metadata": {},
     "output_type": "display_data"
    },
    {
     "data": {
      "text/html": [
       "Score is <a style=\"color: rgb(230,78,52)\">Z = 1099.26</a>\n"
      ],
      "text/plain": [
       "<IPython.core.display.HTML object>"
      ]
     },
     "metadata": {},
     "output_type": "display_data"
    },
    {
     "data": {
      "text/html": [
       "Executing test <i>MaxPathDistanceTest</i> on model <i>pyramidalCell</i>... "
      ],
      "text/plain": [
       "<IPython.core.display.HTML object>"
      ]
     },
     "metadata": {},
     "output_type": "display_data"
    },
    {
     "data": {
      "text/html": [
       "Score is <a style=\"color: rgb(230,78,52)\">Z = 1368.54</a>\n"
      ],
      "text/plain": [
       "<IPython.core.display.HTML object>"
      ]
     },
     "metadata": {},
     "output_type": "display_data"
    },
    {
     "data": {
      "text/html": [
       "Executing test <i>MaxBranchOrderTest</i> on model <i>pyramidalCell</i>... "
      ],
      "text/plain": [
       "<IPython.core.display.HTML object>"
      ]
     },
     "metadata": {},
     "output_type": "display_data"
    },
    {
     "data": {
      "text/html": [
       "Score is <a style=\"color: rgb(230,78,52)\">Z = 23.00</a>\n"
      ],
      "text/plain": [
       "<IPython.core.display.HTML object>"
      ]
     },
     "metadata": {},
     "output_type": "display_data"
    },
    {
     "data": {
      "text/html": [
       "Executing test <i>AverageContractionTest</i> on model <i>pyramidalCell</i>... "
      ],
      "text/plain": [
       "<IPython.core.display.HTML object>"
      ]
     },
     "metadata": {},
     "output_type": "display_data"
    },
    {
     "data": {
      "text/html": [
       "Score is <a style=\"color: rgb(255,232,151)\">Z = 0.86</a>\n"
      ],
      "text/plain": [
       "<IPython.core.display.HTML object>"
      ]
     },
     "metadata": {},
     "output_type": "display_data"
    },
    {
     "data": {
      "text/html": [
       "Executing test <i>TotalFragmentationTest</i> on model <i>pyramidalCell</i>... "
      ],
      "text/plain": [
       "<IPython.core.display.HTML object>"
      ]
     },
     "metadata": {},
     "output_type": "display_data"
    },
    {
     "data": {
      "text/html": [
       "Score is <a style=\"color: rgb(230,78,52)\">Z = 4439.00</a>\n"
      ],
      "text/plain": [
       "<IPython.core.display.HTML object>"
      ]
     },
     "metadata": {},
     "output_type": "display_data"
    },
    {
     "data": {
      "text/html": [
       "Executing test <i>PartitionAsymmetryTest</i> on model <i>pyramidalCell</i>... "
      ],
      "text/plain": [
       "<IPython.core.display.HTML object>"
      ]
     },
     "metadata": {},
     "output_type": "display_data"
    },
    {
     "data": {
      "text/html": [
       "Score is <a style=\"color: rgb(225,243,149)\">Z = 0.51</a>\n"
      ],
      "text/plain": [
       "<IPython.core.display.HTML object>"
      ]
     },
     "metadata": {},
     "output_type": "display_data"
    },
    {
     "data": {
      "text/html": [
       "Executing test <i>AverageRallsRatioTest</i> on model <i>pyramidalCell</i>... "
      ],
      "text/plain": [
       "<IPython.core.display.HTML object>"
      ]
     },
     "metadata": {},
     "output_type": "display_data"
    },
    {
     "data": {
      "text/html": [
       "Score is <a style=\"color: rgb(247,124,74)\">Z = 1.60</a>\n"
      ],
      "text/plain": [
       "<IPython.core.display.HTML object>"
      ]
     },
     "metadata": {},
     "output_type": "display_data"
    },
    {
     "data": {
      "text/html": [
       "Executing test <i>AverageBifurcationAngleLocalTest</i> on model <i>pyramidalCell</i>... "
      ],
      "text/plain": [
       "<IPython.core.display.HTML object>"
      ]
     },
     "metadata": {},
     "output_type": "display_data"
    },
    {
     "data": {
      "text/html": [
       "Score is <a style=\"color: rgb(230,78,52)\">Z = 80.94</a>\n"
      ],
      "text/plain": [
       "<IPython.core.display.HTML object>"
      ]
     },
     "metadata": {},
     "output_type": "display_data"
    },
    {
     "data": {
      "text/html": [
       "Executing test <i>AverageBifurcationAngleRemoteTest</i> on model <i>pyramidalCell</i>... "
      ],
      "text/plain": [
       "<IPython.core.display.HTML object>"
      ]
     },
     "metadata": {},
     "output_type": "display_data"
    },
    {
     "data": {
      "text/html": [
       "Score is <a style=\"color: rgb(230,78,52)\">Z = 71.75</a>\n"
      ],
      "text/plain": [
       "<IPython.core.display.HTML object>"
      ]
     },
     "metadata": {},
     "output_type": "display_data"
    },
    {
     "data": {
      "text/html": [
       "Executing test <i>FractalDimensionTest</i> on model <i>pyramidalCell</i>... "
      ],
      "text/plain": [
       "<IPython.core.display.HTML object>"
      ]
     },
     "metadata": {},
     "output_type": "display_data"
    },
    {
     "data": {
      "text/html": [
       "Score is <a style=\"color: rgb(254,203,121)\">Z = 1.05</a>\n"
      ],
      "text/plain": [
       "<IPython.core.display.HTML object>"
      ]
     },
     "metadata": {},
     "output_type": "display_data"
    }
   ],
   "source": [
    "sm = suite.judge(model)"
   ]
  },
  {
   "cell_type": "markdown",
   "metadata": {},
   "source": [
    "## View the test suite results in a table"
   ]
  },
  {
   "cell_type": "code",
   "execution_count": 7,
   "metadata": {},
   "outputs": [
    {
     "data": {
      "text/html": [
       "<div>\n",
       "<table border=\"1\" class=\"dataframe\">\n",
       "  <thead>\n",
       "    <tr style=\"text-align: right;\">\n",
       "      <th></th>\n",
       "      <th>SomaSurfaceAreaTest</th>\n",
       "      <th>NumberofStemsTest</th>\n",
       "      <th>NumberofBifurcationsTest</th>\n",
       "      <th>NumberofBranchesTest</th>\n",
       "      <th>OverallWidthTest</th>\n",
       "      <th>OverallHeightTest</th>\n",
       "      <th>OverallDepthTest</th>\n",
       "      <th>AverageDiameterTest</th>\n",
       "      <th>TotalLengthTest</th>\n",
       "      <th>TotalSurfaceTest</th>\n",
       "      <th>...</th>\n",
       "      <th>MaxEuclideanDistanceTest</th>\n",
       "      <th>MaxPathDistanceTest</th>\n",
       "      <th>MaxBranchOrderTest</th>\n",
       "      <th>AverageContractionTest</th>\n",
       "      <th>TotalFragmentationTest</th>\n",
       "      <th>PartitionAsymmetryTest</th>\n",
       "      <th>AverageRallsRatioTest</th>\n",
       "      <th>AverageBifurcationAngleLocalTest</th>\n",
       "      <th>AverageBifurcationAngleRemoteTest</th>\n",
       "      <th>FractalDimensionTest</th>\n",
       "    </tr>\n",
       "  </thead>\n",
       "  <tbody>\n",
       "    <tr>\n",
       "      <th>pyramidalCell</th>\n",
       "      <td>Z = 1.11</td>\n",
       "      <td>Z = 10.00</td>\n",
       "      <td>Z = 138.00</td>\n",
       "      <td>Z = 286.00</td>\n",
       "      <td>Z = 771.20</td>\n",
       "      <td>Z = 1672.09</td>\n",
       "      <td>Z = 198.75</td>\n",
       "      <td>Z = 0.38</td>\n",
       "      <td>Z = 16949.90</td>\n",
       "      <td>Z = 18620.50</td>\n",
       "      <td>...</td>\n",
       "      <td>Z = 1099.26</td>\n",
       "      <td>Z = 1368.54</td>\n",
       "      <td>Z = 23.00</td>\n",
       "      <td>Z = 0.86</td>\n",
       "      <td>Z = 4439.00</td>\n",
       "      <td>Z = 0.51</td>\n",
       "      <td>Z = 1.60</td>\n",
       "      <td>Z = 80.94</td>\n",
       "      <td>Z = 71.75</td>\n",
       "      <td>Z = 1.05</td>\n",
       "    </tr>\n",
       "  </tbody>\n",
       "</table>\n",
       "<p>1 rows × 21 columns</p>\n",
       "</div>"
      ],
      "text/plain": [
       "              SomaSurfaceAreaTest NumberofStemsTest NumberofBifurcationsTest  \\\n",
       "pyramidalCell            Z = 1.11         Z = 10.00               Z = 138.00   \n",
       "\n",
       "              NumberofBranchesTest OverallWidthTest OverallHeightTest  \\\n",
       "pyramidalCell           Z = 286.00       Z = 771.20       Z = 1672.09   \n",
       "\n",
       "              OverallDepthTest AverageDiameterTest TotalLengthTest  \\\n",
       "pyramidalCell       Z = 198.75            Z = 0.38    Z = 16949.90   \n",
       "\n",
       "              TotalSurfaceTest         ...          MaxEuclideanDistanceTest  \\\n",
       "pyramidalCell     Z = 18620.50         ...                       Z = 1099.26   \n",
       "\n",
       "              MaxPathDistanceTest MaxBranchOrderTest AverageContractionTest  \\\n",
       "pyramidalCell         Z = 1368.54          Z = 23.00               Z = 0.86   \n",
       "\n",
       "              TotalFragmentationTest PartitionAsymmetryTest  \\\n",
       "pyramidalCell            Z = 4439.00               Z = 0.51   \n",
       "\n",
       "              AverageRallsRatioTest AverageBifurcationAngleLocalTest  \\\n",
       "pyramidalCell              Z = 1.60                        Z = 80.94   \n",
       "\n",
       "              AverageBifurcationAngleRemoteTest FractalDimensionTest  \n",
       "pyramidalCell                         Z = 71.75             Z = 1.05  \n",
       "\n",
       "[1 rows x 21 columns]"
      ]
     },
     "execution_count": 7,
     "metadata": {},
     "output_type": "execute_result"
    }
   ],
   "source": [
    "DataFrame(sm)"
   ]
  }
 ],
 "metadata": {
  "kernelspec": {
   "display_name": "Python 2",
   "language": "python",
   "name": "python2"
  },
  "language_info": {
   "codemirror_mode": {
    "name": "ipython",
    "version": 2
   },
   "file_extension": ".py",
   "mimetype": "text/x-python",
   "name": "python",
   "nbconvert_exporter": "python",
   "pygments_lexer": "ipython2",
   "version": "2.7.14"
  }
 },
 "nbformat": 4,
 "nbformat_minor": 1
}
