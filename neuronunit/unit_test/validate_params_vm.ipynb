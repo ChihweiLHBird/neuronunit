{
 "cells": [
  {
   "cell_type": "code",
   "execution_count": 1,
   "metadata": {},
   "outputs": [],
   "source": [
    "import quantities as pq\n",
    "import sciunit\n",
    "from sciunit.errors import ObservationError, ParametersError"
   ]
  },
  {
   "cell_type": "code",
   "execution_count": 2,
   "metadata": {},
   "outputs": [],
   "source": [
    "from neuronunit.tests import APWidthTest"
   ]
  },
  {
   "cell_type": "code",
   "execution_count": 3,
   "metadata": {},
   "outputs": [
    {
     "data": {
      "text/plain": [
       "{'dt': {'required': False, 'type': 'time'},\n",
       " 'tmax': {'min': 0, 'required': False, 'type': 'time'}}"
      ]
     },
     "execution_count": 3,
     "metadata": {},
     "output_type": "execute_result"
    }
   ],
   "source": [
    "APWidthTest.params_schema"
   ]
  },
  {
   "cell_type": "code",
   "execution_count": 5,
   "metadata": {},
   "outputs": [
    {
     "name": "stdout",
     "output_type": "stream",
     "text": [
      "{'params': [{'3.0 mV': ['Must have dimensions of time.']}]}\n"
     ]
    }
   ],
   "source": [
    "try:\n",
    "    test = APWidthTest({'mean':3.2*pq.ms, 'std':1.4*pq.ms}, name=\"My Test\", tmax=3*pq.mV) # Should fail due to incorrect units\n",
    "except ParametersError as e:\n",
    "    print(e)"
   ]
  },
  {
   "cell_type": "code",
   "execution_count": 6,
   "metadata": {},
   "outputs": [],
   "source": [
    "try:\n",
    "    test = APWidthTest({'mean':3.2*pq.ms, 'std':1.4*pq.ms}, name=\"My Test\", tmax=3*pq.s) # Should validate successfully\n",
    "except ParametersError as e:\n",
    "    print(e)"
   ]
  }
 ],
 "metadata": {
  "kernelspec": {
   "display_name": "Python 3",
   "language": "python",
   "name": "python3"
  },
  "language_info": {
   "codemirror_mode": {
    "name": "ipython",
    "version": 3
   },
   "file_extension": ".py",
   "mimetype": "text/x-python",
   "name": "python",
   "nbconvert_exporter": "python",
   "pygments_lexer": "ipython3",
   "version": "3.5.2"
  }
 },
 "nbformat": 4,
 "nbformat_minor": 2
}
